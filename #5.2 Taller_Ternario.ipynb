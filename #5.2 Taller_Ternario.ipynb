{
  "nbformat": 4,
  "nbformat_minor": 0,
  "metadata": {
    "colab": {
      "name": "Taller Ternario.ipynb",
      "provenance": [],
      "authorship_tag": "ABX9TyNIvgjIBZHJLHoikA1wuTMt",
      "include_colab_link": true
    },
    "kernelspec": {
      "name": "python3",
      "display_name": "Python 3"
    },
    "language_info": {
      "name": "python"
    }
  },
  "cells": [
    {
      "cell_type": "markdown",
      "metadata": {
        "id": "view-in-github",
        "colab_type": "text"
      },
      "source": [
        "<a href=\"https://colab.research.google.com/github/Omar-Montoya20/Segunda-Previa-de-Introducci-n-a-la-Informatica/blob/main/%235.2%20Taller_Ternario.ipynb\" target=\"_parent\"><img src=\"https://colab.research.google.com/assets/colab-badge.svg\" alt=\"Open In Colab\"/></a>"
      ]
    },
    {
      "cell_type": "markdown",
      "metadata": {
        "id": "EEAc5uHe8RDN"
      },
      "source": [
        "##Yohalinson Omar Montoya Plaza"
      ]
    },
    {
      "cell_type": "code",
      "metadata": {
        "id": "X-P_WzjegCr8"
      },
      "source": [
        "# 1. Crear la clase Octal\n",
        "\n",
        "class Ternario:\n",
        "  pass\n",
        "\n",
        "a = Ternario()\n"
      ],
      "execution_count": null,
      "outputs": []
    },
    {
      "cell_type": "code",
      "metadata": {
        "colab": {
          "base_uri": "https://localhost:8080/"
        },
        "id": "w7fBvfHahPw8",
        "outputId": "d95dd8ff-1178-47ad-bef0-886b6d8fc0f5"
      },
      "source": [
        "#2. Crear un \"constructor\" de objetos, inicialmente con un mensaje\n",
        "\n",
        "class Ternario:\n",
        "  def __init__ (self):\n",
        "    print(\"Este es el constructor\")\n",
        "\n",
        "a = Ternario()"
      ],
      "execution_count": null,
      "outputs": [
        {
          "output_type": "stream",
          "name": "stdout",
          "text": [
            "Este es el constructor\n"
          ]
        }
      ]
    },
    {
      "cell_type": "code",
      "metadata": {
        "colab": {
          "base_uri": "https://localhost:8080/"
        },
        "id": "c_rrqJ5MkLue",
        "outputId": "e8fc5c2f-c289-41c4-d6f1-3364a7700d5d"
      },
      "source": [
        "# 3.Modificar el \"constructor\" para que permita recibir el octal como una cadena\n",
        "\n",
        "class Ternario:\n",
        "  def __init__ (self, dato):\n",
        "    self.dato = dato\n",
        "\n",
        "a = Ternario(\"01212\")\n",
        "print (a.dato)"
      ],
      "execution_count": null,
      "outputs": [
        {
          "output_type": "stream",
          "name": "stdout",
          "text": [
            "01212\n"
          ]
        }
      ]
    },
    {
      "cell_type": "code",
      "metadata": {
        "colab": {
          "base_uri": "https://localhost:8080/"
        },
        "id": "oHfI56X3laJk",
        "outputId": "57b5768e-4237-4c50-ec7c-12ee91512d29"
      },
      "source": [
        "# 4. Crear un método (función) cuya tarea es mostrar en pantalla el contenido del objeto\n",
        "\n",
        "class Ternario:\n",
        "  def __init__ (self, dato):\n",
        "    self.dato = dato\n",
        "  def string( self ):\n",
        "    print(self.dato)\n",
        "\n",
        "a = Ternario(\"01212\")\n",
        "a.string()"
      ],
      "execution_count": null,
      "outputs": [
        {
          "output_type": "stream",
          "name": "stdout",
          "text": [
            "01212\n"
          ]
        }
      ]
    },
    {
      "cell_type": "code",
      "metadata": {
        "id": "iPM0XYFkmtoR",
        "colab": {
          "base_uri": "https://localhost:8080/"
        },
        "outputId": "da36d996-0ffc-4368-c91d-b777e8101c50"
      },
      "source": [
        "# 5. Convertir la cadena que almacena el Ternario, en una lista\n",
        "\n",
        "class Ternario:\n",
        "  lista_ternario = []\n",
        "\n",
        "  def __init__ (self, cadena_ternario):\n",
        "    self.cadena_ternario = cadena_ternario\n",
        "    self.lista_ternario = list(self.cadena_ternario)\n",
        "  def string( self ):\n",
        "    print(self.cadena_ternario)\n",
        "    print(self.lista_ternario)\n",
        "\n",
        "a = Ternario(\"01212\")    \n",
        "a.string()"
      ],
      "execution_count": null,
      "outputs": [
        {
          "output_type": "stream",
          "name": "stdout",
          "text": [
            "01212\n",
            "['0', '1', '2', '1', '2']\n"
          ]
        }
      ]
    },
    {
      "cell_type": "code",
      "metadata": {
        "id": "BoZdOg5dy5Hz",
        "colab": {
          "base_uri": "https://localhost:8080/"
        },
        "outputId": "8d876063-3ec5-41c5-f73d-c6a532cf1920"
      },
      "source": [
        "# 6. Convertir la lista de strings en una  lista de enteros\n",
        "\n",
        "class Ternario:\n",
        "  lista_ternario = []\n",
        "\n",
        "  def __init__ (self, cadena_ternario):\n",
        "    self.cadena_ternario = cadena_ternario\n",
        "    self.lista_ternario = list(self.cadena_ternario)\n",
        "\n",
        "    i = 0\n",
        "    for dato in self.lista_ternario:\n",
        "      self.lista_ternario[i] = int(dato)\n",
        "      i = i + 1\n",
        "  \n",
        "  def string(self):\n",
        "    print(self.cadena_ternario)\n",
        "    print(self.lista_ternario)\n",
        "\n",
        "a = Ternario(\"01212\")\n",
        "a.string()\n"
      ],
      "execution_count": null,
      "outputs": [
        {
          "output_type": "stream",
          "name": "stdout",
          "text": [
            "01212\n",
            "[0, 1, 2, 1, 2]\n"
          ]
        }
      ]
    },
    {
      "cell_type": "code",
      "metadata": {
        "colab": {
          "base_uri": "https://localhost:8080/"
        },
        "id": "p467LZN-gLvA",
        "outputId": "3ca51cbd-b524-46d9-9a0c-0fcaaa6ae82a"
      },
      "source": [
        "# 7. Invertir la lista para que coincida con los octales en metamáticas\n",
        "\n",
        "class Ternario:\n",
        "   lista_ternario = []\n",
        "   \n",
        "   def __init__ (self, cadena_ternario):\n",
        "     self.cadena_ternario = cadena_ternario\n",
        "     self.lista_ternario = list(self.cadena_ternario)\n",
        "\n",
        "     i = 0\n",
        "     for dato in self.lista_ternario:\n",
        "       self.lista_ternario[i] = int(dato)\n",
        "       i = i + 1\n",
        "      \n",
        "     self.lista_ternario = list(reversed(self.lista_ternario))\n",
        "\n",
        "   def string(self):\n",
        "    print(self.cadena_ternario)\n",
        "    print(self.lista_ternario)\n",
        "\n",
        "a = Ternario( \"01212\" )\n",
        "a.string()"
      ],
      "execution_count": null,
      "outputs": [
        {
          "output_type": "stream",
          "name": "stdout",
          "text": [
            "01212\n",
            "[2, 1, 2, 1, 0]\n"
          ]
        }
      ]
    },
    {
      "cell_type": "code",
      "metadata": {
        "colab": {
          "base_uri": "https://localhost:8080/"
        },
        "id": "2iRBDVVpwLtb",
        "outputId": "e12bbf7a-a142-4f1b-e56c-7226f199720d"
      },
      "source": [
        "# 8. Crear una función para encontrar el valor decimal del octal\n",
        "\n",
        "class Ternario:\n",
        "  base = 3\n",
        "  lista_ternario = []\n",
        "\n",
        "  def __init__ (self, cadena_ternario):\n",
        "    self.cadena_ternario = cadena_ternario\n",
        "    self.lista_ternario = list(self.cadena_ternario)\n",
        "\n",
        "    i = 0\n",
        "    for dato in self.lista_ternario:\n",
        "      self.lista_ternario[i] = int(dato)\n",
        "      i = i + 1 \n",
        "\n",
        "    self.lista_ternario = list(reversed(self.lista_ternario))\n",
        "\n",
        "  def decimales(self):\n",
        "    número_decimal = 0\n",
        "    i = 0\n",
        "    for dato in self.lista_ternario:\n",
        "      número_decimal+= self.base**i * self.lista_ternario[i]\n",
        "      i = i + 1\n",
        "    return número_decimal\n",
        "\n",
        "  def string(self):\n",
        "    print(self.cadena_ternario)\n",
        "    print(self.lista_ternario)\n",
        "\n",
        "a = Ternario(\"01212\")\n",
        "a.string()\n",
        "print( a.decimales() )"
      ],
      "execution_count": null,
      "outputs": [
        {
          "output_type": "stream",
          "name": "stdout",
          "text": [
            "01212\n",
            "[2, 1, 2, 1, 0]\n",
            "50\n"
          ]
        }
      ]
    }
  ]
}