{
  "nbformat": 4,
  "nbformat_minor": 0,
  "metadata": {
    "colab": {
      "name": "#3.1 Clases y Objetos:Gato.ipynb",
      "provenance": [],
      "collapsed_sections": [],
      "include_colab_link": true
    },
    "kernelspec": {
      "name": "python3",
      "display_name": "Python 3"
    },
    "language_info": {
      "name": "python"
    }
  },
  "cells": [
    {
      "cell_type": "markdown",
      "metadata": {
        "id": "view-in-github",
        "colab_type": "text"
      },
      "source": [
        "<a href=\"https://colab.research.google.com/github/Omar-Montoya20/Segunda-Previa-de-Introducci-n-a-la-Informatica/blob/main/%233.1_Clases_y_Objetos_Gato.ipynb\" target=\"_parent\"><img src=\"https://colab.research.google.com/assets/colab-badge.svg\" alt=\"Open In Colab\"/></a>"
      ]
    },
    {
      "cell_type": "code",
      "metadata": {
        "id": "R8ujQ99BC-5e"
      },
      "source": [
        "# Crear una Clase - Versión 1.0\n",
        "\n",
        "class Gato:  # Se define una clase\n",
        "  pass  # Se omite el código\n",
        "\n",
        "p = Gato() # Se crea el objeto"
      ],
      "execution_count": null,
      "outputs": []
    },
    {
      "cell_type": "code",
      "metadata": {
        "colab": {
          "base_uri": "https://localhost:8080/"
        },
        "id": "HI4w_rOPImW2",
        "outputId": "fa3f79e7-d7fd-47b8-a4d0-c73b1ec316c8"
      },
      "source": [
        "# Crear una clase - Versión 1.1\n",
        "\n",
        "class Gato:  # Se define una clase\n",
        "  def __init__(self): # Constructor\n",
        "    print(\"Constructor del objeto ejecutado\")\n",
        "\n",
        "a = Gato() # Se crea un objeto"
      ],
      "execution_count": null,
      "outputs": [
        {
          "output_type": "stream",
          "name": "stdout",
          "text": [
            "Constructor del objeto ejecutado\n"
          ]
        }
      ]
    },
    {
      "cell_type": "code",
      "metadata": {
        "id": "Tli-amtbLXg4"
      },
      "source": [
        "# Crear una clase - Versión 1.2\n",
        "\n",
        "class Gato:\n",
        "  def __init__(self, raza, nombre, edad): # Recibe la raza, el nombre y la edad\n",
        "    self.raza = raza\n",
        "    self.nombre = nombre\n",
        "    self.edad = edad\n",
        "\n",
        "p = Gato(\"Siámes\", \"Isa\", 7)\n"
      ],
      "execution_count": null,
      "outputs": []
    },
    {
      "cell_type": "code",
      "metadata": {
        "colab": {
          "base_uri": "https://localhost:8080/"
        },
        "id": "TcYLJUJ5NjHJ",
        "outputId": "bef7ae66-0570-4fff-cf75-cd7c2a96c9c1"
      },
      "source": [
        "# Crear una clase - Versión 1.3\n",
        "\n",
        "class Gato:\n",
        "  def __init__(self, raza, nombre, edad): # Recibe la raza, el nombre y la edad\n",
        "    self.raza = raza\n",
        "    self.nombre = nombre\n",
        "    self.edad = edad\n",
        "  def maullar(self):\n",
        "    print(\"Miauu\")\n",
        "\n",
        "p = Gato(\"Siámes\", \"Isa\", 7)\n",
        "p.maullar()"
      ],
      "execution_count": null,
      "outputs": [
        {
          "output_type": "stream",
          "name": "stdout",
          "text": [
            "Miauu\n"
          ]
        }
      ]
    },
    {
      "cell_type": "code",
      "metadata": {
        "colab": {
          "base_uri": "https://localhost:8080/"
        },
        "id": "Ysg1SnQGOiM4",
        "outputId": "592d6068-4482-42c3-84e3-7a4dce235a72"
      },
      "source": [
        "# Crear una clase - Versión 1.4\n",
        "\n",
        "class Gato:\n",
        "  def __init__(self, raza, nombre, edad): # Recibe la raza, el nombre y la edad\n",
        "    self.raza = raza\n",
        "    self.nombre = nombre\n",
        "    self.edad = edad\n",
        "  def maullar(self):\n",
        "    print(\"Miauu\")\n",
        "  def get_raza(self): # Obtener la raza\n",
        "    print(self.raza)\n",
        "\n",
        "p = Gato(\"Siámes\", \"Isa\", 7)\n",
        "p.maullar()\n",
        "p.get_raza()"
      ],
      "execution_count": null,
      "outputs": [
        {
          "output_type": "stream",
          "name": "stdout",
          "text": [
            "Miauu\n",
            "Siámes\n"
          ]
        }
      ]
    },
    {
      "cell_type": "code",
      "metadata": {
        "colab": {
          "base_uri": "https://localhost:8080/"
        },
        "id": "Ts7WeCvXPZoy",
        "outputId": "7e6434ce-d44e-4712-c55b-ef99e938d465"
      },
      "source": [
        "# Crear una clase - Versión 1.5\n",
        "\n",
        "class Gato:\n",
        "  def __init__(self, raza, nombre, edad): # Recibe la raza, el nombre y la edad\n",
        "    self.raza = raza\n",
        "    self.nombre = nombre\n",
        "    self.edad = edad\n",
        "  def maullar(self):\n",
        "    print(\"Miauu\")\n",
        "  def get_raza(self): # Obtener la raza\n",
        "    print(self.raza)\n",
        "  def get_nombre(self): # Obtener el nombre\n",
        "    print(self.nombre)\n",
        "  def get_edad(self): # Obtener la edad\n",
        "    print(self.edad)\n",
        "\n",
        "p = Gato(\"Siámes\", \"Isa\", 7)\n",
        "p.maullar()\n",
        "p.get_raza()\n",
        "p.get_nombre()\n",
        "p.get_edad()"
      ],
      "execution_count": null,
      "outputs": [
        {
          "output_type": "stream",
          "name": "stdout",
          "text": [
            "Miauu\n",
            "Siámes\n",
            "Isa\n",
            "7\n"
          ]
        }
      ]
    },
    {
      "cell_type": "code",
      "metadata": {
        "colab": {
          "base_uri": "https://localhost:8080/"
        },
        "id": "iELs1H03QCok",
        "outputId": "553c1e87-7cd4-49ee-8539-a7278de54756"
      },
      "source": [
        "# Crear una clase - Versión 1.6\n",
        "\n",
        "class Gato:\n",
        "  numero_patas = 4  # Variable de clase - Pertenece a todos los objetos\n",
        "  def __init__(self, raza, nombre, edad): # Recibe la raza, el nombre y la edad\n",
        "    self.raza = raza\n",
        "    self.nombre = nombre\n",
        "    self.edad = edad\n",
        "  def maullar(self):\n",
        "    print(\"Miauu\")\n",
        "  def get_raza(self): # Obtener la raza\n",
        "    print(self.raza)\n",
        "  def get_nombre(self): # Obtener el nombre\n",
        "    print(self.nombre)\n",
        "  def get_edad(self): # Obtener la edad\n",
        "    print(self.edad)\n",
        "\n",
        "p = Gato(\"Siámes\", \"Isa\", 7)\n",
        "p.maullar()\n",
        "p.get_raza()\n",
        "p.get_nombre()\n",
        "p.get_edad()\n",
        "\n",
        "print(\"Número de patas del gato =\", p.numero_patas)"
      ],
      "execution_count": null,
      "outputs": [
        {
          "output_type": "stream",
          "name": "stdout",
          "text": [
            "Miauu\n",
            "Siámes\n",
            "Isa\n",
            "7\n",
            "Número de patas del gato = 4\n"
          ]
        }
      ]
    },
    {
      "cell_type": "code",
      "metadata": {
        "colab": {
          "base_uri": "https://localhost:8080/"
        },
        "id": "3qH8C_6QQ-SU",
        "outputId": "6c0c5f33-7a3a-43a0-bcc1-0e1379306cf7"
      },
      "source": [
        "# Crear una clase - Versión 1.7\n",
        "\n",
        "class Gato:\n",
        "  numero_patas = 4  # Variable de clase - Pertenece a todos los objetos\n",
        "  def __init__(self, raza, nombre, edad): # Recibe la raza, el nombre y la edad\n",
        "    self.raza = raza\n",
        "    self.nombre = nombre\n",
        "    self.edad = edad\n",
        "  def maullar(self):\n",
        "    print(\"El gato está atento: Miauu\")\n",
        "  def get_raza(self): # Obtener la raza\n",
        "    print(\"La raza del gato es =\", self.raza)\n",
        "  def get_nombre(self): # Obtener el nombre\n",
        "    print(\"El nombre del gato es =\", self.nombre)\n",
        "  def get_edad(self): # Obtener la edad\n",
        "    print(\"La edad del gato es =\", self.edad)\n",
        "\n",
        "p = Gato(\"Siámes\", \"Isa\", 7)\n",
        "p.maullar()\n",
        "p.get_raza()\n",
        "p.get_nombre()\n",
        "p.get_edad()\n",
        "\n",
        "print(\"Número de patas del gato =\", p.numero_patas)"
      ],
      "execution_count": null,
      "outputs": [
        {
          "output_type": "stream",
          "name": "stdout",
          "text": [
            "El gato está atento: Miauu\n",
            "La raza del gato es = Siámes\n",
            "El nombre del gato es = Isa\n",
            "La edad del gato es = 7\n",
            "Número de patas del gato = 4\n"
          ]
        }
      ]
    }
  ]
}