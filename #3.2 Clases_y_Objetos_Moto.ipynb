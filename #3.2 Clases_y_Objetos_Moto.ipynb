{
  "nbformat": 4,
  "nbformat_minor": 0,
  "metadata": {
    "colab": {
      "name": "#3.2 Clases y Objetos:Moto.ipynb",
      "provenance": [],
      "authorship_tag": "ABX9TyPOK678YPwlOtk6K6f0l5cm",
      "include_colab_link": true
    },
    "kernelspec": {
      "name": "python3",
      "display_name": "Python 3"
    },
    "language_info": {
      "name": "python"
    }
  },
  "cells": [
    {
      "cell_type": "markdown",
      "metadata": {
        "id": "view-in-github",
        "colab_type": "text"
      },
      "source": [
        "<a href=\"https://colab.research.google.com/github/Omar-Montoya20/Segunda-Previa-de-Introducci-n-a-la-Informatica/blob/main/%233.2%20Clases_y_Objetos_Moto.ipynb\" target=\"_parent\"><img src=\"https://colab.research.google.com/assets/colab-badge.svg\" alt=\"Open In Colab\"/></a>"
      ]
    },
    {
      "cell_type": "markdown",
      "metadata": {
        "id": "qoTRWFaQWxeq"
      },
      "source": [
        "## PYTHON - Clases y Objetos\n",
        "\n",
        "Moto"
      ]
    },
    {
      "cell_type": "code",
      "metadata": {
        "id": "dsRXVkI6MLy5"
      },
      "source": [
        "#Crear una clase - Version 1.0\n",
        "\n",
        "class Medios_de_Transporte: # Aqui se define una clase\n",
        "  pass #Se omite el codigo\n",
        "\n",
        "a = Medios_de_Transporte()  # Se crea un objeto"
      ],
      "execution_count": null,
      "outputs": []
    },
    {
      "cell_type": "code",
      "metadata": {
        "colab": {
          "base_uri": "https://localhost:8080/"
        },
        "id": "LJyCHOgFMmud",
        "outputId": "d7f9eb37-0bad-4472-a1c9-a58661f22ddd"
      },
      "source": [
        "# Crear una clase - Version 1.1\n",
        "\n",
        "class Moto: # Aqui se define una clase\n",
        "\n",
        "  def __init__ (self):  #Constructor\n",
        "    print(\"Constructor del objeto ejecutado\")\n",
        "\n",
        "a = Moto() # Se crea un objeto\n"
      ],
      "execution_count": null,
      "outputs": [
        {
          "output_type": "stream",
          "name": "stdout",
          "text": [
            "Constructor del objeto ejecutado\n"
          ]
        }
      ]
    },
    {
      "cell_type": "code",
      "metadata": {
        "id": "qaYKuXWdPEkF"
      },
      "source": [
        "# Crear una clase - Version 1.2\n",
        "\n",
        "class Moto:\n",
        "\n",
        "  def __init__ (self, tipo, marca, color ): # Recibe el tipo del medio de transporte, la marca y el color\n",
        "    self.tipo = tipo\n",
        "    self.marca = marca\n",
        "    self.color = color\n",
        "\n",
        "a = Moto(\"Motocicleta\", \"Yamaha\", \"Rojo\")\n"
      ],
      "execution_count": null,
      "outputs": []
    },
    {
      "cell_type": "code",
      "metadata": {
        "colab": {
          "base_uri": "https://localhost:8080/"
        },
        "id": "RG6wVYLOQXsM",
        "outputId": "c4377af6-a71a-4c1e-e211-54e9537f2672"
      },
      "source": [
        "# Crear una clase - Version 1.3\n",
        "\n",
        "class Moto:\n",
        "\n",
        "  def __init__ (self, tipo, marca, color ): # Recibe el tipo del medio de transporte, la marca y el color\n",
        "    self.tipo = tipo\n",
        "    self.marca = marca\n",
        "    self.color = color\n",
        "  \n",
        "  def encender (self):\n",
        "    print(\"Encendido\")\n",
        "\n",
        "a = Moto(\"Motocicleta\", \"Yamaha\", \"Rojo\")\n",
        "a.encender()\n"
      ],
      "execution_count": null,
      "outputs": [
        {
          "output_type": "stream",
          "name": "stdout",
          "text": [
            "Encendido\n"
          ]
        }
      ]
    },
    {
      "cell_type": "code",
      "metadata": {
        "colab": {
          "base_uri": "https://localhost:8080/"
        },
        "id": "kE58xXEdRfFt",
        "outputId": "54f393e8-f2c0-4393-d119-29ea51e593d7"
      },
      "source": [
        "# Crear una clase - Version 1.4\n",
        "\n",
        "class Moto:\n",
        "\n",
        "  def __init__ (self, tipo, marca, color ): # Recibe el tipo del medio de transporte, la marca y el color\n",
        "    self.tipo = tipo\n",
        "    self.marca = marca\n",
        "    self.color = color\n",
        "  \n",
        "  def encender (self):\n",
        "    print(\"Encendido\")\n",
        "\n",
        "  def get_tipo(self): #Obtener el tipo de el medio de transporte\n",
        "    print(self.tipo)\n",
        "\n",
        "a = Moto(\"Motocicleta\", \"Yamaha\", \"Rojo\")\n",
        "a.encender()\n",
        "a.get_tipo()"
      ],
      "execution_count": null,
      "outputs": [
        {
          "output_type": "stream",
          "name": "stdout",
          "text": [
            "Encendido\n",
            "Motocicleta\n"
          ]
        }
      ]
    },
    {
      "cell_type": "code",
      "metadata": {
        "colab": {
          "base_uri": "https://localhost:8080/"
        },
        "id": "8ax1iG64TJC7",
        "outputId": "f259ef84-fad9-4e5e-e482-642557f7f2cb"
      },
      "source": [
        "# Crear una clase - Version 1.5\n",
        "\n",
        "class Moto:\n",
        "\n",
        "  def __init__ (self, tipo, marca, color ): # Recibe el tipo del medio de transporte, la marca y el color\n",
        "    self.tipo = tipo\n",
        "    self.marca = marca\n",
        "    self.color = color\n",
        "  \n",
        "  def encender (self):\n",
        "    print(\"Encendido\")\n",
        "\n",
        "  def get_tipo(self): #Obtener el tipo de el medio de transporte\n",
        "    print(self.tipo)\n",
        "\n",
        "  def get_marca(self): # Se obtine la marca de el medio de transporte\n",
        "    print(self.marca)\n",
        "\n",
        "  def get_color(self): # Se obtine el color de el medio de transporte\n",
        "    print(self.color)\n",
        "\n",
        "a = Moto(\"Motocicleta\", \"Yamaha\", \"Rojo\")\n",
        "a.encender()\n",
        "a.get_tipo()\n",
        "a.get_marca()\n",
        "a.get_color()"
      ],
      "execution_count": null,
      "outputs": [
        {
          "output_type": "stream",
          "name": "stdout",
          "text": [
            "Encendido\n",
            "Motocicleta\n",
            "Yamaha\n",
            "Rojo\n"
          ]
        }
      ]
    },
    {
      "cell_type": "code",
      "metadata": {
        "colab": {
          "base_uri": "https://localhost:8080/"
        },
        "id": "FylKGU1ET-93",
        "outputId": "f72edb4e-d585-44c1-edb1-c6a527e36c70"
      },
      "source": [
        "# Crear una clase - Version 1.6\n",
        "\n",
        "class Moto:\n",
        "  Número_de_llantas = 2 # Variable de clase - Pertenece a todo los objetos\n",
        "  def __init__ (self, tipo, marca, color ): # Recibe el tipo del medio de transporte, la marca y el color\n",
        "    self.tipo = tipo\n",
        "    self.marca = marca\n",
        "    self.color = color\n",
        "  \n",
        "  def encender (self):\n",
        "    print(\"Encendido\")\n",
        "\n",
        "  def get_tipo(self): #Obtener el tipo de el medio de transporte\n",
        "    print(self.tipo)\n",
        "\n",
        "  def get_marca(self): # Se obtine la marca de el medio de transporte\n",
        "    print(self.marca)\n",
        "\n",
        "  def get_color(self): # Se obtine el color de el medio de transporte\n",
        "    print(self.color)\n",
        "\n",
        "a = Moto(\"Motocicleta\", \"Yamaha\", \"Rojo\")\n",
        "a.encender()\n",
        "a.get_tipo()\n",
        "a.get_marca()\n",
        "a.get_color()\n",
        "\n",
        "print(\"Numero de llantas del medio de transporte = \" ,a.Número_de_llantas)"
      ],
      "execution_count": null,
      "outputs": [
        {
          "output_type": "stream",
          "name": "stdout",
          "text": [
            "Encendido\n",
            "Motocicleta\n",
            "Yamaha\n",
            "Rojo\n",
            "Numero de llantas del medio de transporte =  2\n"
          ]
        }
      ]
    },
    {
      "cell_type": "code",
      "metadata": {
        "colab": {
          "base_uri": "https://localhost:8080/"
        },
        "id": "hhrt8Ux-Vfcs",
        "outputId": "d8aba67c-3b0a-4548-8470-6d14339eb05f"
      },
      "source": [
        "# Crear una clase - Version 1.6\n",
        "\n",
        "class Moto:\n",
        "  Número_de_llantas = 2 # Variable de clase - Pertenece a todo los objetos\n",
        "  def __init__ (self, tipo, marca, color ): # Recibe el tipo del medio de transporte, la marca y el color\n",
        "    self.tipo = tipo\n",
        "    self.marca = marca\n",
        "    self.color = color\n",
        "  \n",
        "  def encender (self):\n",
        "    print(\"Se introduce la llave y se da vuelta al switche: Encendido\")\n",
        "\n",
        "  def get_tipo(self): #Obtener el tipo de el medio de transporte\n",
        "    print(\"El tipo del medio de transporte es =\", self.tipo)\n",
        "\n",
        "  def get_marca(self): # Se obtine la marca de el medio de transporte\n",
        "    print(\"La marca del medio de transporte es =\" ,self.marca)\n",
        "\n",
        "  def get_color(self): # Se obtine el color de el medio de transporte\n",
        "    print(\"El color del medio de transporte es =\", self.color)\n",
        "\n",
        "a = Moto(\"Motocicleta\", \"Yamaha\", \"Rojo\")\n",
        "a.encender()\n",
        "a.get_tipo()\n",
        "a.get_marca()\n",
        "a.get_color()\n",
        "\n",
        "print(\"Numero de llantas del medio de transporte = \" ,a.Número_de_llantas)"
      ],
      "execution_count": null,
      "outputs": [
        {
          "output_type": "stream",
          "name": "stdout",
          "text": [
            "Se introduce la llave y se da vuelta al switche: Encendido\n",
            "El tipo del medio de transporte es = Motocicleta\n",
            "La marca del medio de transporte es = Yamaha\n",
            "El color del medio de transporte es = Rojo\n",
            "Numero de llantas del medio de transporte =  2\n"
          ]
        }
      ]
    }
  ]
}